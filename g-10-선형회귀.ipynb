{
 "cells": [
  {
   "cell_type": "markdown",
   "metadata": {},
   "source": [
    "선형회귀\n",
    "==\n",
    "다루는 내용\n",
    "--\n",
    "- 머신러닝 개념\n",
    "- 경사하강법"
   ]
  },
  {
   "cell_type": "code",
   "execution_count": 11,
   "metadata": {},
   "outputs": [
    {
     "data": {
      "text/plain": [
       "<matplotlib.collections.PathCollection at 0x1a214aab70>"
      ]
     },
     "execution_count": 11,
     "metadata": {},
     "output_type": "execute_result"
    },
    {
     "data": {
      "image/png": "[encoded data removed]",
      "text/plain": [
       "<Figure size 432x288 with 1 Axes>"
      ]
     },
     "metadata": {
      "needs_background": "light"
     },
     "output_type": "display_data"
    }
   ],
   "source": [
    "import numpy as np\n",
    "import pandas as pd\n",
    "import matplotlib.pyplot as plt\n",
    "%matplotlib inline\n",
    "\n",
    "n_samples = 200\n",
    "x = np.random.randn(n_samples)\n",
    "\n",
    "# 계수 및 절편\n",
    "w = 2\n",
    "b = 3\n",
    "# 노이지 \n",
    "y = w*x + b + np.random.randn(n_samples)\n",
    "plt.scatter(x,y, s=10)"
   ]
  },
  {
   "cell_type": "code",
   "execution_count": 12,
   "metadata": {},
   "outputs": [
    {
     "data": {
      "text/plain": [
       "array([[1.        , 0.87739455],\n",
       "       [0.87739455, 1.        ]])"
      ]
     },
     "execution_count": 12,
     "metadata": {},
     "output_type": "execute_result"
    }
   ],
   "source": [
    "np.corrcoef(x,y)"
   ]
  },
  {
   "cell_type": "code",
   "execution_count": 13,
   "metadata": {},
   "outputs": [
    {
     "name": "stdout",
     "output_type": "stream",
     "text": [
      "[1.93826898]\n",
      "3.0154443472606367\n"
     ]
    }
   ],
   "source": [
    "from sklearn.linear_model import LinearRegression\n",
    "leg = LinearRegression()\n",
    "leg.fit(x.reshape(-1,1), y)\n",
    "\n",
    "print(leg.coef_)\n",
    "print(leg.intercept_)"
   ]
  },
  {
   "cell_type": "markdown",
   "metadata": {},
   "source": [
    "변수가 2개인 경우\n",
    "--"
   ]
  },
  {
   "cell_type": "code",
   "execution_count": 14,
   "metadata": {},
   "outputs": [
    {
     "name": "stdout",
     "output_type": "stream",
     "text": [
      "[2.05888235 2.9807902 ]\n",
      "3.942115544472855\n"
     ]
    }
   ],
   "source": [
    "n_samples = 200\n",
    "x1 = np.random.randn(n_samples)\n",
    "x2 = np.random.randn(n_samples)\n",
    "\n",
    "y = 2 * x1 + 3 * x2 + 4 + np.random.randn(n_samples)\n",
    "\n",
    "leg = LinearRegression()\n",
    "X = pd.DataFrame({'x1':x1, 'x2':x2})\n",
    "leg.fit(X, y)\n",
    "\n",
    "print(leg.coef_)\n",
    "print(leg.intercept_)"
   ]
  },
  {
   "cell_type": "markdown",
   "metadata": {},
   "source": [
    "경사하강법\n",
    "--"
   ]
  },
  {
   "cell_type": "code",
   "execution_count": 15,
   "metadata": {
    "scrolled": false
   },
   "outputs": [
    {
     "name": "stdout",
     "output_type": "stream",
     "text": [
      " 0 w1 = 0.070844,  w2 = 0.154510, b = 0.216542 , error = 4.166285\n",
      " 1 w1 = 1.292155,  w2 = 2.006253, b = 2.690591 , error = 1.606130\n",
      " 2 w1 = 1.775563,  w2 = 2.643708, b = 3.515881 , error = 0.902617\n",
      " 3 w1 = 1.956619,  w2 = 2.863957, b = 3.795651 , error = 0.792317\n",
      " 4 w1 = 2.022468,  w2 = 2.940241, b = 3.891500 , error = 0.780334\n",
      " 5 w1 = 2.046020,  w2 = 2.966703, b = 3.924561 , error = 0.778771\n",
      " 6 w1 = 2.054361,  w2 = 2.975893, b = 3.936014 , error = 0.779040\n",
      " 7 w1 = 2.057298,  w2 = 2.979087, b = 3.939992 , error = 0.779350\n",
      " 8 w1 = 2.058328,  w2 = 2.980198, b = 3.941376 , error = 0.779491\n",
      " 9 w1 = 2.058689,  w2 = 2.980584, b = 3.941858 , error = 0.779540\n"
     ]
    }
   ],
   "source": [
    "num_epoch = 10\n",
    "lr = 0.7\n",
    "\n",
    "w1 = np.random.uniform()\n",
    "w2 = np.random.uniform()\n",
    "b = np.random.uniform()\n",
    "\n",
    "for epoch in range(num_epoch):\n",
    "    y_pred = w1*x1 + w2*x2 + b\n",
    "    error = np.abs(y_pred - y).mean()\n",
    "    print(f\"{epoch:2} w1 = {w1:.6f},  w2 = {w2:.6f}, b = {b:.6f} , error = {error:.6f}\")\n",
    "\n",
    "    w1 = w1 - lr*((y_pred - y)* x1).mean()\n",
    "    w2 = w2 - lr*((y_pred - y)* x2).mean()\n",
    "    b = b - lr*((y_pred - y)).mean()"
   ]
  },
  {
   "cell_type": "code",
   "execution_count": 17,
   "metadata": {},
   "outputs": [
    {
     "data": {
      "text/plain": [
       "0.9282295602220362"
      ]
     },
     "execution_count": 17,
     "metadata": {},
     "output_type": "execute_result"
    }
   ],
   "source": [
    "leg.score(X,y)"
   ]
  },
  {
   "cell_type": "code",
   "execution_count": null,
   "metadata": {},
   "outputs": [],
   "source": []
  },
  {
   "cell_type": "code",
   "execution_count": null,
   "metadata": {},
   "outputs": [],
   "source": []
  }
 ],
 "metadata": {
  "kernelspec": {
   "display_name": "Python 3",
   "language": "python",
   "name": "python3"
  },
  "language_info": {
   "codemirror_mode": {
    "name": "ipython",
    "version": 3
   },
   "file_extension": ".py",
   "mimetype": "text/x-python",
   "name": "python",
   "nbconvert_exporter": "python",
   "pygments_lexer": "ipython3",
   "version": "3.6.6"
  }
 },
 "nbformat": 4,
 "nbformat_minor": 2
}
